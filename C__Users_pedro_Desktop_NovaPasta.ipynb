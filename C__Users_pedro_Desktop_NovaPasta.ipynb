{
 "cells": [
  {
   "cell_type": "code",
   "execution_count": 16,
   "id": "0b36eab0",
   "metadata": {},
   "outputs": [
    {
     "name": "stdout",
     "output_type": "stream",
     "text": [
      "Requirement already satisfied: pandas in c:\\users\\pedro\\anaconda3\\lib\\site-packages (1.4.2)\n",
      "Requirement already satisfied: python-dateutil>=2.8.1 in c:\\users\\pedro\\anaconda3\\lib\\site-packages (from pandas) (2.8.2)\n",
      "Requirement already satisfied: numpy>=1.18.5 in c:\\users\\pedro\\anaconda3\\lib\\site-packages (from pandas) (1.21.5)\n",
      "Requirement already satisfied: pytz>=2020.1 in c:\\users\\pedro\\anaconda3\\lib\\site-packages (from pandas) (2021.3)\n",
      "Requirement already satisfied: six>=1.5 in c:\\users\\pedro\\anaconda3\\lib\\site-packages (from python-dateutil>=2.8.1->pandas) (1.16.0)\n",
      "Note: you may need to restart the kernel to use updated packages.\n"
     ]
    }
   ],
   "source": []
  },
  {
   "cell_type": "code",
   "execution_count": 17,
   "id": "6fc19ffc",
   "metadata": {
    "scrolled": true
   },
   "outputs": [
    {
     "name": "stdout",
     "output_type": "stream",
     "text": [
      "5.196899999999999\n",
      "5.1529\n",
      "288.46\n"
     ]
    }
   ],
   "source": [
    "from selenium import webdriver\n",
    "from selenium.webdriver.common.keys import Keys\n",
    "from selenium.webdriver.common.by import By\n",
    "\n",
    "#Cotação do dolar\n",
    "# Abrir o navegador\n",
    "navegador = webdriver.Chrome()\n",
    "\n",
    "# Abrir o google\n",
    "navegador.get(\"https://www.google.com.br\")\n",
    "\n",
    "# Selecionar o campo de pesquisa e escrever o que sera procurado\n",
    "navegador.find_element(\"xpath\", \n",
    "\"/html/body/div[1]/div[3]/form/div[1]/div[1]/div[1]/div/div[2]/input\").send_keys(\"cotação dolar\")\n",
    "\n",
    "# Dar enter na pesquisa\n",
    "navegador.find_element('xpath', \n",
    "'/html/body/div[1]/div[3]/form/div[1]/div[1]/div[1]/div/div[2]/input').send_keys(Keys.ENTER)\n",
    "\n",
    "# Passo 1: Pegar a cotação do dolar\n",
    "cotacao_dolar = navegador.find_element('xpath', \n",
    "'//*[@id=\"knowledge-currency__updatable-data-column\"]/div[1]/div[2]/span[1]').get_attribute('data-value')\n",
    "\n",
    "#Cotação do euro \n",
    "\n",
    "navegador.get(\"https://www.google.com.br\")\n",
    "\n",
    "\n",
    "navegador.find_element(\"xpath\", \n",
    "\"/html/body/div[1]/div[3]/form/div[1]/div[1]/div[1]/div/div[2]/input\").send_keys(\"cotação euro\")\n",
    "\n",
    "\n",
    "navegador.find_element('xpath', \n",
    "'/html/body/div[1]/div[3]/form/div[1]/div[1]/div[1]/div/div[2]/input').send_keys(Keys.ENTER)\n",
    "\n",
    "\n",
    "cotacao_euro = navegador.find_element('xpath', \n",
    "'//*[@id=\"knowledge-currency__updatable-data-column\"]/div[1]/div[2]/span[1]').get_attribute('data-value')\n",
    "\n",
    "# Cotação do ouro\n",
    "\n",
    "navegador.get(\"https://www.melhorcambio.com/ouro-hoje#:~:text=O%20valor%20do%20grama%20do,em%20R%24%20288%2C25.\")\n",
    "\n",
    "cotacao_ouro = navegador.find_element('xpath', '//*[@id=\"comercial\"]').get_attribute('value')\n",
    "cotacao_ouro = cotacao_ouro.replace(\",\", \".\")\n",
    "\n",
    "\n",
    "print(cotacao_dolar)\n",
    "print(cotacao_euro)\n",
    "print(cotacao_ouro)\n"
   ]
  },
  {
   "cell_type": "code",
   "execution_count": null,
   "id": "b2751660",
   "metadata": {},
   "outputs": [],
   "source": [
    "import pandas as pd\n",
    "\n",
    "tabela = pd.read_excel(\"Produtos.xlsx\")"
   ]
  }
 ],
 "metadata": {
  "kernelspec": {
   "display_name": "Python 3 (ipykernel)",
   "language": "python",
   "name": "python3"
  },
  "language_info": {
   "codemirror_mode": {
    "name": "ipython",
    "version": 3
   },
   "file_extension": ".py",
   "mimetype": "text/x-python",
   "name": "python",
   "nbconvert_exporter": "python",
   "pygments_lexer": "ipython3",
   "version": "3.9.12"
  }
 },
 "nbformat": 4,
 "nbformat_minor": 5
}
